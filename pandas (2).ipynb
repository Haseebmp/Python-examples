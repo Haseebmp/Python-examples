{
 "cells": [
  {
   "cell_type": "code",
   "execution_count": 1,
   "id": "05322b53",
   "metadata": {},
   "outputs": [],
   "source": [
    "import pandas as pd"
   ]
  },
  {
   "cell_type": "code",
   "execution_count": 2,
   "id": "971ed0c0",
   "metadata": {},
   "outputs": [],
   "source": [
    "list1=[1,2,3,4,5,6]"
   ]
  },
  {
   "cell_type": "code",
   "execution_count": 3,
   "id": "8d4187b8",
   "metadata": {},
   "outputs": [],
   "source": [
    "ser1=pd.Series(list1)"
   ]
  },
  {
   "cell_type": "code",
   "execution_count": 4,
   "id": "d2ee943d",
   "metadata": {},
   "outputs": [
    {
     "data": {
      "text/plain": [
       "0    1\n",
       "1    2\n",
       "2    3\n",
       "3    4\n",
       "4    5\n",
       "5    6\n",
       "dtype: int64"
      ]
     },
     "execution_count": 4,
     "metadata": {},
     "output_type": "execute_result"
    }
   ],
   "source": [
    "ser1"
   ]
  },
  {
   "cell_type": "code",
   "execution_count": 8,
   "id": "ffb83cc4",
   "metadata": {},
   "outputs": [],
   "source": [
    "list2=[\"haseeb\",\"haseeb\",\"anil\",\"sabeeda\",\"nandhu\"]"
   ]
  },
  {
   "cell_type": "code",
   "execution_count": 9,
   "id": "21eaf492",
   "metadata": {},
   "outputs": [],
   "source": [
    "ser1=pd.Series(list2)"
   ]
  },
  {
   "cell_type": "code",
   "execution_count": 10,
   "id": "c6625782",
   "metadata": {},
   "outputs": [
    {
     "data": {
      "text/plain": [
       "0     haseeb\n",
       "1     haseeb\n",
       "2       anil\n",
       "3    sabeeda\n",
       "4     nandhu\n",
       "dtype: object"
      ]
     },
     "execution_count": 10,
     "metadata": {},
     "output_type": "execute_result"
    }
   ],
   "source": [
    "ser1"
   ]
  },
  {
   "cell_type": "code",
   "execution_count": 11,
   "id": "faacc342",
   "metadata": {},
   "outputs": [],
   "source": [
    "import numpy as np"
   ]
  },
  {
   "cell_type": "code",
   "execution_count": 13,
   "id": "e54be84c",
   "metadata": {},
   "outputs": [],
   "source": [
    "a=np.arange(1,51)"
   ]
  },
  {
   "cell_type": "code",
   "execution_count": 14,
   "id": "0049a809",
   "metadata": {},
   "outputs": [
    {
     "data": {
      "text/plain": [
       "array([ 1,  2,  3,  4,  5,  6,  7,  8,  9, 10, 11, 12, 13, 14, 15, 16, 17,\n",
       "       18, 19, 20, 21, 22, 23, 24, 25, 26, 27, 28, 29, 30, 31, 32, 33, 34,\n",
       "       35, 36, 37, 38, 39, 40, 41, 42, 43, 44, 45, 46, 47, 48, 49, 50])"
      ]
     },
     "execution_count": 14,
     "metadata": {},
     "output_type": "execute_result"
    }
   ],
   "source": [
    "a"
   ]
  },
  {
   "cell_type": "code",
   "execution_count": 15,
   "id": "2f32babe",
   "metadata": {},
   "outputs": [],
   "source": [
    "ser3=pd.Series(a)"
   ]
  },
  {
   "cell_type": "code",
   "execution_count": 16,
   "id": "66678515",
   "metadata": {},
   "outputs": [
    {
     "data": {
      "text/plain": [
       "0      1\n",
       "1      2\n",
       "2      3\n",
       "3      4\n",
       "4      5\n",
       "5      6\n",
       "6      7\n",
       "7      8\n",
       "8      9\n",
       "9     10\n",
       "10    11\n",
       "11    12\n",
       "12    13\n",
       "13    14\n",
       "14    15\n",
       "15    16\n",
       "16    17\n",
       "17    18\n",
       "18    19\n",
       "19    20\n",
       "20    21\n",
       "21    22\n",
       "22    23\n",
       "23    24\n",
       "24    25\n",
       "25    26\n",
       "26    27\n",
       "27    28\n",
       "28    29\n",
       "29    30\n",
       "30    31\n",
       "31    32\n",
       "32    33\n",
       "33    34\n",
       "34    35\n",
       "35    36\n",
       "36    37\n",
       "37    38\n",
       "38    39\n",
       "39    40\n",
       "40    41\n",
       "41    42\n",
       "42    43\n",
       "43    44\n",
       "44    45\n",
       "45    46\n",
       "46    47\n",
       "47    48\n",
       "48    49\n",
       "49    50\n",
       "dtype: int32"
      ]
     },
     "execution_count": 16,
     "metadata": {},
     "output_type": "execute_result"
    }
   ],
   "source": [
    "ser3"
   ]
  },
  {
   "cell_type": "code",
   "execution_count": 18,
   "id": "174fbc85",
   "metadata": {},
   "outputs": [
    {
     "data": {
      "text/plain": [
       "0     haseeb\n",
       "1     haseeb\n",
       "2       anil\n",
       "3    sabeeda\n",
       "4     nandhu\n",
       "dtype: object"
      ]
     },
     "execution_count": 18,
     "metadata": {},
     "output_type": "execute_result"
    }
   ],
   "source": [
    "ser1"
   ]
  },
  {
   "cell_type": "code",
   "execution_count": 19,
   "id": "be245701",
   "metadata": {},
   "outputs": [
    {
     "data": {
      "text/plain": [
       "'anil'"
      ]
     },
     "execution_count": 19,
     "metadata": {},
     "output_type": "execute_result"
    }
   ],
   "source": [
    "ser1[2]"
   ]
  },
  {
   "cell_type": "code",
   "execution_count": 25,
   "id": "281b721c",
   "metadata": {},
   "outputs": [
    {
     "data": {
      "text/plain": [
       "1    haseeb\n",
       "dtype: object"
      ]
     },
     "execution_count": 25,
     "metadata": {},
     "output_type": "execute_result"
    }
   ],
   "source": [
    "ser1[1::4]"
   ]
  },
  {
   "cell_type": "code",
   "execution_count": 26,
   "id": "f1cdfca3",
   "metadata": {},
   "outputs": [],
   "source": [
    "ser4=pd.Series(list2,index=[\"a\",\"b\",\"c\",\"d\",\"e\"])"
   ]
  },
  {
   "cell_type": "code",
   "execution_count": 27,
   "id": "e3454ac1",
   "metadata": {},
   "outputs": [
    {
     "data": {
      "text/plain": [
       "a     haseeb\n",
       "b     haseeb\n",
       "c       anil\n",
       "d    sabeeda\n",
       "e     nandhu\n",
       "dtype: object"
      ]
     },
     "execution_count": 27,
     "metadata": {},
     "output_type": "execute_result"
    }
   ],
   "source": [
    "ser4"
   ]
  },
  {
   "cell_type": "code",
   "execution_count": 29,
   "id": "fe45b524",
   "metadata": {},
   "outputs": [
    {
     "data": {
      "text/plain": [
       "'anil'"
      ]
     },
     "execution_count": 29,
     "metadata": {},
     "output_type": "execute_result"
    }
   ],
   "source": [
    "ser4[\"c\"]"
   ]
  },
  {
   "cell_type": "code",
   "execution_count": 30,
   "id": "10e9b93c",
   "metadata": {},
   "outputs": [
    {
     "data": {
      "text/plain": [
       "0     False\n",
       "1     False\n",
       "2     False\n",
       "3     False\n",
       "4     False\n",
       "5     False\n",
       "6     False\n",
       "7     False\n",
       "8     False\n",
       "9     False\n",
       "10    False\n",
       "11    False\n",
       "12    False\n",
       "13    False\n",
       "14    False\n",
       "15    False\n",
       "16    False\n",
       "17    False\n",
       "18    False\n",
       "19    False\n",
       "20     True\n",
       "21     True\n",
       "22     True\n",
       "23     True\n",
       "24     True\n",
       "25     True\n",
       "26     True\n",
       "27     True\n",
       "28     True\n",
       "29     True\n",
       "30     True\n",
       "31     True\n",
       "32     True\n",
       "33     True\n",
       "34     True\n",
       "35     True\n",
       "36     True\n",
       "37     True\n",
       "38     True\n",
       "39     True\n",
       "40     True\n",
       "41     True\n",
       "42     True\n",
       "43     True\n",
       "44     True\n",
       "45     True\n",
       "46     True\n",
       "47     True\n",
       "48     True\n",
       "49     True\n",
       "dtype: bool"
      ]
     },
     "execution_count": 30,
     "metadata": {},
     "output_type": "execute_result"
    }
   ],
   "source": [
    "ser3>20"
   ]
  },
  {
   "cell_type": "code",
   "execution_count": 32,
   "id": "15675ae8",
   "metadata": {},
   "outputs": [
    {
     "data": {
      "text/plain": [
       "30    31\n",
       "31    32\n",
       "32    33\n",
       "33    34\n",
       "34    35\n",
       "35    36\n",
       "36    37\n",
       "37    38\n",
       "38    39\n",
       "39    40\n",
       "40    41\n",
       "41    42\n",
       "42    43\n",
       "43    44\n",
       "44    45\n",
       "45    46\n",
       "46    47\n",
       "47    48\n",
       "48    49\n",
       "49    50\n",
       "dtype: int32"
      ]
     },
     "execution_count": 32,
     "metadata": {},
     "output_type": "execute_result"
    }
   ],
   "source": [
    "ser3[ser3>30]"
   ]
  },
  {
   "cell_type": "code",
   "execution_count": 34,
   "id": "f9641f0e",
   "metadata": {},
   "outputs": [
    {
     "data": {
      "text/plain": [
       "0     False\n",
       "1     False\n",
       "2     False\n",
       "3     False\n",
       "4     False\n",
       "5     False\n",
       "6     False\n",
       "7     False\n",
       "8     False\n",
       "9     False\n",
       "10    False\n",
       "11    False\n",
       "12    False\n",
       "13    False\n",
       "14    False\n",
       "15    False\n",
       "16    False\n",
       "17    False\n",
       "18    False\n",
       "19    False\n",
       "20    False\n",
       "21    False\n",
       "22    False\n",
       "23    False\n",
       "24    False\n",
       "25    False\n",
       "26    False\n",
       "27    False\n",
       "28    False\n",
       "29    False\n",
       "30     True\n",
       "31     True\n",
       "32     True\n",
       "33     True\n",
       "34     True\n",
       "35     True\n",
       "36     True\n",
       "37     True\n",
       "38     True\n",
       "39     True\n",
       "40     True\n",
       "41     True\n",
       "42     True\n",
       "43     True\n",
       "44     True\n",
       "45     True\n",
       "46     True\n",
       "47     True\n",
       "48     True\n",
       "49     True\n",
       "dtype: bool"
      ]
     },
     "execution_count": 34,
     "metadata": {},
     "output_type": "execute_result"
    }
   ],
   "source": [
    "(ser3>30) & (ser3<60)"
   ]
  },
  {
   "cell_type": "code",
   "execution_count": 35,
   "id": "782b035a",
   "metadata": {},
   "outputs": [
    {
     "data": {
      "text/plain": [
       "30    31\n",
       "31    32\n",
       "32    33\n",
       "33    34\n",
       "34    35\n",
       "35    36\n",
       "36    37\n",
       "37    38\n",
       "38    39\n",
       "39    40\n",
       "40    41\n",
       "41    42\n",
       "42    43\n",
       "43    44\n",
       "44    45\n",
       "45    46\n",
       "46    47\n",
       "47    48\n",
       "48    49\n",
       "49    50\n",
       "dtype: int32"
      ]
     },
     "execution_count": 35,
     "metadata": {},
     "output_type": "execute_result"
    }
   ],
   "source": [
    "ser3[(ser3>30) & (ser3<60)]"
   ]
  },
  {
   "cell_type": "code",
   "execution_count": 36,
   "id": "560d5ca4",
   "metadata": {},
   "outputs": [
    {
     "data": {
      "text/plain": [
       "1"
      ]
     },
     "execution_count": 36,
     "metadata": {},
     "output_type": "execute_result"
    }
   ],
   "source": [
    "ser3.min()"
   ]
  },
  {
   "cell_type": "code",
   "execution_count": 37,
   "id": "74636876",
   "metadata": {},
   "outputs": [
    {
     "data": {
      "text/plain": [
       "50"
      ]
     },
     "execution_count": 37,
     "metadata": {},
     "output_type": "execute_result"
    }
   ],
   "source": [
    "ser3.max()"
   ]
  },
  {
   "cell_type": "code",
   "execution_count": 38,
   "id": "28107404",
   "metadata": {},
   "outputs": [
    {
     "data": {
      "text/plain": [
       "0     11\n",
       "1     12\n",
       "2     13\n",
       "3     14\n",
       "4     15\n",
       "5     16\n",
       "6     17\n",
       "7     18\n",
       "8     19\n",
       "9     20\n",
       "10    21\n",
       "11    22\n",
       "12    23\n",
       "13    24\n",
       "14    25\n",
       "15    26\n",
       "16    27\n",
       "17    28\n",
       "18    29\n",
       "19    30\n",
       "20    31\n",
       "21    32\n",
       "22    33\n",
       "23    34\n",
       "24    35\n",
       "25    36\n",
       "26    37\n",
       "27    38\n",
       "28    39\n",
       "29    40\n",
       "30    41\n",
       "31    42\n",
       "32    43\n",
       "33    44\n",
       "34    45\n",
       "35    46\n",
       "36    47\n",
       "37    48\n",
       "38    49\n",
       "39    50\n",
       "40    51\n",
       "41    52\n",
       "42    53\n",
       "43    54\n",
       "44    55\n",
       "45    56\n",
       "46    57\n",
       "47    58\n",
       "48    59\n",
       "49    60\n",
       "dtype: int32"
      ]
     },
     "execution_count": 38,
     "metadata": {},
     "output_type": "execute_result"
    }
   ],
   "source": [
    "ser3+10"
   ]
  },
  {
   "cell_type": "code",
   "execution_count": 39,
   "id": "f1667a0c",
   "metadata": {},
   "outputs": [
    {
     "data": {
      "text/plain": [
       "0     -4\n",
       "1     -3\n",
       "2     -2\n",
       "3     -1\n",
       "4      0\n",
       "5      1\n",
       "6      2\n",
       "7      3\n",
       "8      4\n",
       "9      5\n",
       "10     6\n",
       "11     7\n",
       "12     8\n",
       "13     9\n",
       "14    10\n",
       "15    11\n",
       "16    12\n",
       "17    13\n",
       "18    14\n",
       "19    15\n",
       "20    16\n",
       "21    17\n",
       "22    18\n",
       "23    19\n",
       "24    20\n",
       "25    21\n",
       "26    22\n",
       "27    23\n",
       "28    24\n",
       "29    25\n",
       "30    26\n",
       "31    27\n",
       "32    28\n",
       "33    29\n",
       "34    30\n",
       "35    31\n",
       "36    32\n",
       "37    33\n",
       "38    34\n",
       "39    35\n",
       "40    36\n",
       "41    37\n",
       "42    38\n",
       "43    39\n",
       "44    40\n",
       "45    41\n",
       "46    42\n",
       "47    43\n",
       "48    44\n",
       "49    45\n",
       "dtype: int32"
      ]
     },
     "execution_count": 39,
     "metadata": {},
     "output_type": "execute_result"
    }
   ],
   "source": [
    "ser3-5"
   ]
  },
  {
   "cell_type": "code",
   "execution_count": 40,
   "id": "cdb06f36",
   "metadata": {},
   "outputs": [
    {
     "data": {
      "text/plain": [
       "0       2\n",
       "1       4\n",
       "2       6\n",
       "3       8\n",
       "4      10\n",
       "5      12\n",
       "6      14\n",
       "7      16\n",
       "8      18\n",
       "9      20\n",
       "10     22\n",
       "11     24\n",
       "12     26\n",
       "13     28\n",
       "14     30\n",
       "15     32\n",
       "16     34\n",
       "17     36\n",
       "18     38\n",
       "19     40\n",
       "20     42\n",
       "21     44\n",
       "22     46\n",
       "23     48\n",
       "24     50\n",
       "25     52\n",
       "26     54\n",
       "27     56\n",
       "28     58\n",
       "29     60\n",
       "30     62\n",
       "31     64\n",
       "32     66\n",
       "33     68\n",
       "34     70\n",
       "35     72\n",
       "36     74\n",
       "37     76\n",
       "38     78\n",
       "39     80\n",
       "40     82\n",
       "41     84\n",
       "42     86\n",
       "43     88\n",
       "44     90\n",
       "45     92\n",
       "46     94\n",
       "47     96\n",
       "48     98\n",
       "49    100\n",
       "dtype: int32"
      ]
     },
     "execution_count": 40,
     "metadata": {},
     "output_type": "execute_result"
    }
   ],
   "source": [
    "ser3*2"
   ]
  },
  {
   "cell_type": "code",
   "execution_count": 41,
   "id": "caaf944b",
   "metadata": {},
   "outputs": [],
   "source": [
    "has={\"name\":\"haseeb\",\"course\":\"python\",\"place\":\"cherpulassery\"}"
   ]
  },
  {
   "cell_type": "code",
   "execution_count": 42,
   "id": "16d6cbf8",
   "metadata": {},
   "outputs": [
    {
     "data": {
      "text/plain": [
       "{'name': 'haseeb', 'course': 'python', 'place': 'cherpulassery'}"
      ]
     },
     "execution_count": 42,
     "metadata": {},
     "output_type": "execute_result"
    }
   ],
   "source": [
    "has"
   ]
  },
  {
   "cell_type": "code",
   "execution_count": 43,
   "id": "586efe52",
   "metadata": {},
   "outputs": [],
   "source": [
    "names=pd.Series(has)"
   ]
  },
  {
   "cell_type": "code",
   "execution_count": 44,
   "id": "4810f632",
   "metadata": {},
   "outputs": [
    {
     "data": {
      "text/plain": [
       "name             haseeb\n",
       "course           python\n",
       "place     cherpulassery\n",
       "dtype: object"
      ]
     },
     "execution_count": 44,
     "metadata": {},
     "output_type": "execute_result"
    }
   ],
   "source": [
    "names"
   ]
  },
  {
   "cell_type": "code",
   "execution_count": 46,
   "id": "f44bfc51",
   "metadata": {},
   "outputs": [],
   "source": [
    "list1=[\"name\",\"course\",\"place\",\"age\",\"DOB\"]"
   ]
  },
  {
   "cell_type": "code",
   "execution_count": 47,
   "id": "94b473d7",
   "metadata": {},
   "outputs": [],
   "source": [
    "names1=pd.Series(has,index=list1)"
   ]
  },
  {
   "cell_type": "code",
   "execution_count": 48,
   "id": "84d8b8aa",
   "metadata": {},
   "outputs": [
    {
     "data": {
      "text/plain": [
       "name             haseeb\n",
       "course           python\n",
       "place     cherpulassery\n",
       "age                 NaN\n",
       "DOB                 NaN\n",
       "dtype: object"
      ]
     },
     "execution_count": 48,
     "metadata": {},
     "output_type": "execute_result"
    }
   ],
   "source": [
    "names1"
   ]
  },
  {
   "cell_type": "code",
   "execution_count": 49,
   "id": "f655c0f3",
   "metadata": {},
   "outputs": [
    {
     "data": {
      "text/plain": [
       "name      False\n",
       "course    False\n",
       "place     False\n",
       "age        True\n",
       "DOB        True\n",
       "dtype: bool"
      ]
     },
     "execution_count": 49,
     "metadata": {},
     "output_type": "execute_result"
    }
   ],
   "source": [
    "names1.isna()"
   ]
  },
  {
   "cell_type": "code",
   "execution_count": 52,
   "id": "d386c63d",
   "metadata": {},
   "outputs": [
    {
     "data": {
      "text/plain": [
       "age    NaN\n",
       "DOB    NaN\n",
       "dtype: object"
      ]
     },
     "execution_count": 52,
     "metadata": {},
     "output_type": "execute_result"
    }
   ],
   "source": [
    "names1[names1.isna()]"
   ]
  },
  {
   "cell_type": "code",
   "execution_count": 53,
   "id": "5ae7b748",
   "metadata": {},
   "outputs": [
    {
     "data": {
      "text/plain": [
       "name      False\n",
       "course    False\n",
       "place     False\n",
       "age        True\n",
       "DOB        True\n",
       "dtype: bool"
      ]
     },
     "execution_count": 53,
     "metadata": {},
     "output_type": "execute_result"
    }
   ],
   "source": [
    "names1.isnull()"
   ]
  },
  {
   "cell_type": "code",
   "execution_count": 54,
   "id": "b7df0793",
   "metadata": {},
   "outputs": [
    {
     "data": {
      "text/plain": [
       "age    NaN\n",
       "DOB    NaN\n",
       "dtype: object"
      ]
     },
     "execution_count": 54,
     "metadata": {},
     "output_type": "execute_result"
    }
   ],
   "source": [
    "names1[names1.isnull()]"
   ]
  },
  {
   "cell_type": "code",
   "execution_count": 55,
   "id": "adddefe6",
   "metadata": {},
   "outputs": [
    {
     "data": {
      "text/plain": [
       "name       True\n",
       "course     True\n",
       "place      True\n",
       "age       False\n",
       "DOB       False\n",
       "dtype: bool"
      ]
     },
     "execution_count": 55,
     "metadata": {},
     "output_type": "execute_result"
    }
   ],
   "source": [
    "names1.notna()"
   ]
  },
  {
   "cell_type": "code",
   "execution_count": 56,
   "id": "020f0919",
   "metadata": {},
   "outputs": [
    {
     "data": {
      "text/plain": [
       "name             haseeb\n",
       "course           python\n",
       "place     cherpulassery\n",
       "dtype: object"
      ]
     },
     "execution_count": 56,
     "metadata": {},
     "output_type": "execute_result"
    }
   ],
   "source": [
    "names1[names1.notna()]"
   ]
  },
  {
   "cell_type": "code",
   "execution_count": null,
   "id": "83cdc4ce",
   "metadata": {},
   "outputs": [],
   "source": []
  }
 ],
 "metadata": {
  "kernelspec": {
   "display_name": "Python 3 (ipykernel)",
   "language": "python",
   "name": "python3"
  },
  "language_info": {
   "codemirror_mode": {
    "name": "ipython",
    "version": 3
   },
   "file_extension": ".py",
   "mimetype": "text/x-python",
   "name": "python",
   "nbconvert_exporter": "python",
   "pygments_lexer": "ipython3",
   "version": "3.11.7"
  }
 },
 "nbformat": 4,
 "nbformat_minor": 5
}
